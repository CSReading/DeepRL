{
 "cells": [
  {
   "cell_type": "markdown",
   "metadata": {},
   "source": [
    "# 1. Generalization"
   ]
  },
  {
   "cell_type": "code",
   "execution_count": 1,
   "metadata": {},
   "outputs": [],
   "source": [
    "from tensorflow import keras\n",
    "from sklearn.utils import resample"
   ]
  },
  {
   "cell_type": "code",
   "execution_count": 2,
   "metadata": {},
   "outputs": [],
   "source": [
    "def mnist_classification(sampling:int=1, depth:int=1, width:int=32, optimizer:str='adam', batch_size:int=128, epochs:int=5):\n",
    "    (x_train, y_train), (x_test, y_test) = keras.datasets.mnist.load_data()\n",
    "    if sampling > 1:\n",
    "        x_train, y_train = resample(x_train, y_train, replace=False, n_samples=x_train.shape[0]//sampling)\n",
    "    x_train = x_train / 255.0\n",
    "    x_test = x_test / 255.0\n",
    "    y_train = keras.utils.to_categorical(y_train, 10)\n",
    "    y_test = keras.utils.to_categorical(y_test, 10)\n",
    "\n",
    "    model = keras.Sequential()\n",
    "    model.add(keras.layers.Flatten(input_shape=(28, 28)))\n",
    "    for _ in range(depth):\n",
    "        model.add(keras.layers.Dense(width, activation='relu'))\n",
    "    model.add(keras.layers.Dense(10, activation='softmax'))\n",
    "\n",
    "    model.compile(\n",
    "        loss='categorical_crossentropy',\n",
    "        optimizer=optimizer,\n",
    "        metrics=['accuracy']\n",
    "    )\n",
    "\n",
    "    history = model.fit(x_train, y_train, epochs=epochs, batch_size=batch_size, validation_data=(x_test, y_test))\n",
    "    return history"
   ]
  },
  {
   "cell_type": "markdown",
   "metadata": {},
   "source": [
    ">Perform a classification task. Note how many epochs the training takes, and in testing, how well it generalizes.\n",
    "\n",
    "- 幅128の1層, バッチサイズ128, エポック数5でやってみる"
   ]
  },
  {
   "cell_type": "code",
   "execution_count": 3,
   "metadata": {},
   "outputs": [
    {
     "name": "stderr",
     "output_type": "stream",
     "text": [
      "2022-04-22 19:23:47.767535: I tensorflow/core/platform/cpu_feature_guard.cc:151] This TensorFlow binary is optimized with oneAPI Deep Neural Network Library (oneDNN) to use the following CPU instructions in performance-critical operations:  SSE4.1 SSE4.2 AVX AVX2 FMA\n",
      "To enable them in other operations, rebuild TensorFlow with the appropriate compiler flags.\n"
     ]
    },
    {
     "name": "stdout",
     "output_type": "stream",
     "text": [
      "Epoch 1/5\n",
      "469/469 [==============================] - 1s 2ms/step - loss: 0.4990 - accuracy: 0.8646 - val_loss: 0.2749 - val_accuracy: 0.9224\n",
      "Epoch 2/5\n",
      "469/469 [==============================] - 0s 1ms/step - loss: 0.2552 - accuracy: 0.9278 - val_loss: 0.2183 - val_accuracy: 0.9388\n",
      "Epoch 3/5\n",
      "469/469 [==============================] - 1s 1ms/step - loss: 0.2089 - accuracy: 0.9412 - val_loss: 0.1957 - val_accuracy: 0.9431\n",
      "Epoch 4/5\n",
      "469/469 [==============================] - 0s 1ms/step - loss: 0.1816 - accuracy: 0.9479 - val_loss: 0.1732 - val_accuracy: 0.9489\n",
      "Epoch 5/5\n",
      "469/469 [==============================] - 1s 1ms/step - loss: 0.1623 - accuracy: 0.9534 - val_loss: 0.1616 - val_accuracy: 0.9526\n"
     ]
    }
   ],
   "source": [
    "res = mnist_classification()"
   ]
  },
  {
   "cell_type": "markdown",
   "metadata": {},
   "source": [
    ">Perform the classification on a smaller training set, how does learning rate change, how does generalization change.\n",
    "\n",
    "- サンプルを 1/10 にするとちょっとaccuracy下がる"
   ]
  },
  {
   "cell_type": "code",
   "execution_count": 4,
   "metadata": {},
   "outputs": [
    {
     "name": "stdout",
     "output_type": "stream",
     "text": [
      "Epoch 1/5\n",
      "47/47 [==============================] - 0s 5ms/step - loss: 1.5726 - accuracy: 0.5437 - val_loss: 0.9454 - val_accuracy: 0.7514\n",
      "Epoch 2/5\n",
      "47/47 [==============================] - 0s 2ms/step - loss: 0.7266 - accuracy: 0.8107 - val_loss: 0.5553 - val_accuracy: 0.8590\n",
      "Epoch 3/5\n",
      "47/47 [==============================] - 0s 2ms/step - loss: 0.4955 - accuracy: 0.8658 - val_loss: 0.4384 - val_accuracy: 0.8848\n",
      "Epoch 4/5\n",
      "47/47 [==============================] - 0s 3ms/step - loss: 0.4014 - accuracy: 0.8908 - val_loss: 0.3798 - val_accuracy: 0.8984\n",
      "Epoch 5/5\n",
      "47/47 [==============================] - 0s 3ms/step - loss: 0.3457 - accuracy: 0.9068 - val_loss: 0.3508 - val_accuracy: 0.9040\n"
     ]
    }
   ],
   "source": [
    "res = mnist_classification(sampling=10)"
   ]
  },
  {
   "cell_type": "markdown",
   "metadata": {},
   "source": [
    ">Vary other elements: try a different optimizer than adam, try a different learning rate, try a different (deeper) architecture, try wider hidden layers."
   ]
  },
  {
   "cell_type": "code",
   "execution_count": 5,
   "metadata": {},
   "outputs": [
    {
     "name": "stdout",
     "output_type": "stream",
     "text": [
      "Epoch 1/5\n",
      "469/469 [==============================] - 1s 1ms/step - loss: 1.3342 - accuracy: 0.6457 - val_loss: 0.7516 - val_accuracy: 0.8287\n",
      "Epoch 2/5\n",
      "469/469 [==============================] - 0s 973us/step - loss: 0.6253 - accuracy: 0.8467 - val_loss: 0.5033 - val_accuracy: 0.8747\n",
      "Epoch 3/5\n",
      "469/469 [==============================] - 0s 955us/step - loss: 0.4790 - accuracy: 0.8752 - val_loss: 0.4194 - val_accuracy: 0.8903\n",
      "Epoch 4/5\n",
      "469/469 [==============================] - 0s 991us/step - loss: 0.4175 - accuracy: 0.8874 - val_loss: 0.3761 - val_accuracy: 0.8987\n",
      "Epoch 5/5\n",
      "469/469 [==============================] - 0s 982us/step - loss: 0.3826 - accuracy: 0.8961 - val_loss: 0.3500 - val_accuracy: 0.9047\n"
     ]
    }
   ],
   "source": [
    "# Optimizer = SGD だと accuracy が若干下がった\n",
    "res = mnist_classification(optimizer='sgd')"
   ]
  },
  {
   "cell_type": "code",
   "execution_count": 6,
   "metadata": {},
   "outputs": [
    {
     "name": "stdout",
     "output_type": "stream",
     "text": [
      "Epoch 1/5\n",
      "469/469 [==============================] - 1s 2ms/step - loss: 0.5046 - accuracy: 0.8456 - val_loss: 0.2416 - val_accuracy: 0.9275\n",
      "Epoch 2/5\n",
      "469/469 [==============================] - 1s 1ms/step - loss: 0.2068 - accuracy: 0.9390 - val_loss: 0.1755 - val_accuracy: 0.9464\n",
      "Epoch 3/5\n",
      "469/469 [==============================] - 1s 1ms/step - loss: 0.1597 - accuracy: 0.9532 - val_loss: 0.1501 - val_accuracy: 0.9552\n",
      "Epoch 4/5\n",
      "469/469 [==============================] - 1s 1ms/step - loss: 0.1368 - accuracy: 0.9592 - val_loss: 0.1386 - val_accuracy: 0.9582\n",
      "Epoch 5/5\n",
      "469/469 [==============================] - 1s 1ms/step - loss: 0.1184 - accuracy: 0.9643 - val_loss: 0.1350 - val_accuracy: 0.9580\n"
     ]
    }
   ],
   "source": [
    "# deeper architecture は 4くらいだとあまり変わらない\n",
    "res = mnist_classification(depth=4)"
   ]
  },
  {
   "cell_type": "code",
   "execution_count": 7,
   "metadata": {},
   "outputs": [
    {
     "name": "stdout",
     "output_type": "stream",
     "text": [
      "Epoch 1/5\n",
      "469/469 [==============================] - 1s 2ms/step - loss: 0.3076 - accuracy: 0.9142 - val_loss: 0.1634 - val_accuracy: 0.9537\n",
      "Epoch 2/5\n",
      "469/469 [==============================] - 1s 2ms/step - loss: 0.1345 - accuracy: 0.9614 - val_loss: 0.1172 - val_accuracy: 0.9645\n",
      "Epoch 3/5\n",
      "469/469 [==============================] - 1s 2ms/step - loss: 0.0911 - accuracy: 0.9736 - val_loss: 0.0856 - val_accuracy: 0.9741\n",
      "Epoch 4/5\n",
      "469/469 [==============================] - 1s 2ms/step - loss: 0.0667 - accuracy: 0.9808 - val_loss: 0.0807 - val_accuracy: 0.9755\n",
      "Epoch 5/5\n",
      "469/469 [==============================] - 1s 2ms/step - loss: 0.0512 - accuracy: 0.9849 - val_loss: 0.0784 - val_accuracy: 0.9761\n"
     ]
    }
   ],
   "source": [
    "# width を広げたら accuracy 上がった\n",
    "res = mnist_classification(width=256)"
   ]
  }
 ],
 "metadata": {
  "interpreter": {
   "hash": "beecc3ed13ff2ff51bd7a89c5036e2bda406a278116bec9a4d563cd63429b0ec"
  },
  "kernelspec": {
   "display_name": "Python 3.8.13 ('deeprl')",
   "language": "python",
   "name": "python3"
  },
  "language_info": {
   "codemirror_mode": {
    "name": "ipython",
    "version": 3
   },
   "file_extension": ".py",
   "mimetype": "text/x-python",
   "name": "python",
   "nbconvert_exporter": "python",
   "pygments_lexer": "ipython3",
   "version": "3.8.13"
  },
  "orig_nbformat": 4
 },
 "nbformat": 4,
 "nbformat_minor": 2
}

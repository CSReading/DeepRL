{
 "cells": [
  {
   "cell_type": "markdown",
   "metadata": {},
   "source": [
    "# Appendix B"
   ]
  },
  {
   "cell_type": "markdown",
   "metadata": {},
   "source": [
    "## 1. *Generalization* \n",
    "Install Keras. Go to the Keras MNIST example. Perform a classification task. Note how many epochs the training takes, and in testing, how well it generalizes. Perform the classification on a smaller training set, how does learning rate change, how does generalization change. Vary other elements: try a different optimizer than adam, try a different learning rate, try a different (deeper) architecture, try wider hidden layers. Does it learn faster? Does it generalize better?"
   ]
  },
  {
   "cell_type": "code",
   "execution_count": 47,
   "metadata": {},
   "outputs": [],
   "source": [
    "import os\n",
    "import shutil\n",
    "import subprocess\n",
    "\n",
    "import numpy as np\n",
    "import matplotlib.pyplot as plt\n",
    "import seaborn as sns\n",
    "import mlflow"
   ]
  },
  {
   "cell_type": "code",
   "execution_count": 11,
   "metadata": {},
   "outputs": [
    {
     "name": "stdout",
     "output_type": "stream",
     "text": [
      "2022-04-23 17:24:19.370515: W tensorflow/stream_executor/platform/default/dso_loader.cc:64] Could not load dynamic library 'libcudart.so.11.0'; dlerror: libcudart.so.11.0: cannot open shared object file: No such file or directory\n",
      "2022-04-23 17:24:19.370609: I tensorflow/stream_executor/cuda/cudart_stub.cc:29] Ignore above cudart dlerror if you do not have a GPU set up on your machine.\n",
      "x_train shape: (60000, 28, 28, 1)\n",
      "60000 train samples\n",
      "10000 test samples\n",
      "/opt/conda/lib/python3.9/site-packages/mlflow/utils/autologging_utils/__init__.py:416: FutureWarning: Autologging support for keras >= 2.6.0 has been deprecated and will be removed in a future MLflow release. Use `mlflow.tensorflow.autolog()` instead.\n",
      "  return _autolog(*args, **kwargs)\n",
      "2022-04-23 17:24:28.027396: W tensorflow/stream_executor/platform/default/dso_loader.cc:64] Could not load dynamic library 'libcuda.so.1'; dlerror: libcuda.so.1: cannot open shared object file: No such file or directory\n",
      "2022-04-23 17:24:28.027601: W tensorflow/stream_executor/cuda/cuda_driver.cc:269] failed call to cuInit: UNKNOWN ERROR (303)\n",
      "2022-04-23 17:24:28.027976: I tensorflow/stream_executor/cuda/cuda_diagnostics.cc:156] kernel driver does not appear to be running on this host (5c4c50fd13e8): /proc/driver/nvidia/version does not exist\n",
      "2022-04-23 17:24:28.031124: I tensorflow/core/platform/cpu_feature_guard.cc:151] This TensorFlow binary is optimized with oneAPI Deep Neural Network Library (oneDNN) to use the following CPU instructions in performance-critical operations:  AVX2 FMA\n",
      "To enable them in other operations, rebuild TensorFlow with the appropriate compiler flags.\n",
      "Model: \"sequential\"\n",
      "_________________________________________________________________\n",
      " Layer (type)                Output Shape              Param #   \n",
      "=================================================================\n",
      " conv2d (Conv2D)             (None, 26, 26, 32)        320       \n",
      "                                                                 \n",
      " max_pooling2d (MaxPooling2D  (None, 13, 13, 32)       0         \n",
      " )                                                               \n",
      "                                                                 \n",
      " conv2d_1 (Conv2D)           (None, 11, 11, 64)        18496     \n",
      "                                                                 \n",
      " max_pooling2d_1 (MaxPooling  (None, 5, 5, 64)         0         \n",
      " 2D)                                                             \n",
      "                                                                 \n",
      " flatten (Flatten)           (None, 1600)              0         \n",
      "                                                                 \n",
      " dropout (Dropout)           (None, 1600)              0         \n",
      "                                                                 \n",
      " dense (Dense)               (None, 18)                28818     \n",
      "                                                                 \n",
      "=================================================================\n",
      "Total params: 47,634\n",
      "Trainable params: 47,634\n",
      "Non-trainable params: 0\n",
      "_________________________________________________________________\n",
      "2022/04/23 17:24:28 INFO mlflow.utils.autologging_utils: Created MLflow autologging run with ID 'aae578718ec8496dbc8479e4fe1b9d67', which will track hyperparameters, performance metrics, model artifacts, and lineage information for the current keras workflow\n",
      "2022-04-23 17:24:28.729560: W tensorflow/core/framework/cpu_allocator_impl.cc:82] Allocation of 169344000 exceeds 10% of free system memory.\n",
      "Epoch 1/15\n",
      "2022-04-23 17:24:30.379595: W tensorflow/core/framework/cpu_allocator_impl.cc:82] Allocation of 17981568 exceeds 10% of free system memory.\n",
      "2022-04-23 17:24:30.379773: W tensorflow/core/framework/cpu_allocator_impl.cc:82] Allocation of 17981568 exceeds 10% of free system memory.\n",
      "  1/422 [..............................] - ETA: 8:09 - loss: 2.8711 - accuracy: 0.10162022-04-23 17:24:30.540216: W tensorflow/core/framework/cpu_allocator_impl.cc:82] Allocation of 17981568 exceeds 10% of free system memory.\n",
      "2022-04-23 17:24:30.541158: W tensorflow/core/framework/cpu_allocator_impl.cc:82] Allocation of 17981568 exceeds 10% of free system memory.\n",
      "422/422 [==============================] - 83s 194ms/step - loss: 0.3943 - accuracy: 0.8785 - val_loss: 0.0877 - val_accuracy: 0.9773\n",
      "Epoch 2/15\n",
      "422/422 [==============================] - 139s 328ms/step - loss: 0.1215 - accuracy: 0.9627 - val_loss: 0.0598 - val_accuracy: 0.9837\n",
      "Epoch 3/15\n",
      "422/422 [==============================] - 169s 401ms/step - loss: 0.0919 - accuracy: 0.9715 - val_loss: 0.0511 - val_accuracy: 0.9862\n",
      "Epoch 4/15\n",
      "422/422 [==============================] - 149s 353ms/step - loss: 0.0759 - accuracy: 0.9771 - val_loss: 0.0448 - val_accuracy: 0.9880\n",
      "Epoch 5/15\n",
      "422/422 [==============================] - 122s 289ms/step - loss: 0.0656 - accuracy: 0.9798 - val_loss: 0.0411 - val_accuracy: 0.9868\n",
      "Epoch 6/15\n",
      "422/422 [==============================] - 104s 246ms/step - loss: 0.0598 - accuracy: 0.9815 - val_loss: 0.0383 - val_accuracy: 0.9887\n",
      "Epoch 7/15\n",
      "422/422 [==============================] - 117s 277ms/step - loss: 0.0548 - accuracy: 0.9827 - val_loss: 0.0390 - val_accuracy: 0.9898\n",
      "Epoch 8/15\n",
      "422/422 [==============================] - 115s 272ms/step - loss: 0.0501 - accuracy: 0.9842 - val_loss: 0.0317 - val_accuracy: 0.9922\n",
      "Epoch 9/15\n",
      "422/422 [==============================] - 106s 250ms/step - loss: 0.0464 - accuracy: 0.9853 - val_loss: 0.0382 - val_accuracy: 0.9897\n",
      "Epoch 10/15\n",
      "422/422 [==============================] - 105s 249ms/step - loss: 0.0419 - accuracy: 0.9864 - val_loss: 0.0324 - val_accuracy: 0.9913\n",
      "Epoch 11/15\n",
      "422/422 [==============================] - 106s 252ms/step - loss: 0.0424 - accuracy: 0.9862 - val_loss: 0.0328 - val_accuracy: 0.9918\n",
      "Epoch 12/15\n",
      "422/422 [==============================] - 107s 254ms/step - loss: 0.0381 - accuracy: 0.9879 - val_loss: 0.0311 - val_accuracy: 0.9920\n",
      "Epoch 13/15\n",
      "422/422 [==============================] - 105s 248ms/step - loss: 0.0378 - accuracy: 0.9876 - val_loss: 0.0304 - val_accuracy: 0.9910\n",
      "Epoch 14/15\n",
      "422/422 [==============================] - 110s 261ms/step - loss: 0.0346 - accuracy: 0.9885 - val_loss: 0.0297 - val_accuracy: 0.9917\n",
      "Epoch 15/15\n",
      "422/422 [==============================] - 121s 286ms/step - loss: 0.0334 - accuracy: 0.9893 - val_loss: 0.0334 - val_accuracy: 0.9918\n",
      "2022-04-23 17:53:48.040791: W tensorflow/python/util/util.cc:368] Sets are not currently considered sequences, but this may change in the future, so consider avoiding using them.\n",
      "/opt/conda/lib/python3.9/site-packages/_distutils_hack/__init__.py:30: UserWarning: Setuptools is replacing distutils.\n",
      "  warnings.warn(\"Setuptools is replacing distutils.\")\n"
     ]
    }
   ],
   "source": [
    "!python3 train.py -b 128 -e 15 -opt adam -lr 0.001 \n",
    "!python3 train.py -b 128 -e 15 -opt SDG -lr 0.001\n",
    "!python3 train.py -b 128 -e 15 -opt adam -lr 0.01\n",
    "!python3 train.py -b 128 -e 15 -opt adam -lr 0.001 -seed 2022\n",
    "!python3 train.py -b 128 -e 15 -opt adam -lr 0.001 -seed 2022"
   ]
  },
  {
   "cell_type": "code",
   "execution_count": 31,
   "metadata": {},
   "outputs": [
    {
     "ename": "OSError",
     "evalue": "Background processes not supported.",
     "output_type": "error",
     "traceback": [
      "\u001b[0;31m---------------------------------------------------------------------------\u001b[0m",
      "\u001b[0;31mOSError\u001b[0m                                   Traceback (most recent call last)",
      "\u001b[1;32m/workspace/exercises/appendixB/mshibatatt/appendixB.ipynb Cell 5'\u001b[0m in \u001b[0;36m<cell line: 1>\u001b[0;34m()\u001b[0m\n\u001b[0;32m----> <a href='vscode-notebook-cell://dev-container%2B2f686f6d652f6d7368696261746174742f44656570524c/workspace/exercises/appendixB/mshibatatt/appendixB.ipynb#ch0000018vscode-remote?line=0'>1</a>\u001b[0m get_ipython()\u001b[39m.\u001b[39;49msystem(\u001b[39m'\u001b[39;49m\u001b[39mmlflow ui > /dev/null 2>&1 &\u001b[39;49m\u001b[39m'\u001b[39;49m)\n\u001b[1;32m      <a href='vscode-notebook-cell://dev-container%2B2f686f6d652f6d7368696261746174742f44656570524c/workspace/exercises/appendixB/mshibatatt/appendixB.ipynb#ch0000018vscode-remote?line=1'>2</a>\u001b[0m get_ipython()\u001b[39m.\u001b[39msystem(\u001b[39m'\u001b[39m\u001b[39mls\u001b[39m\u001b[39m'\u001b[39m)\n",
      "File \u001b[0;32m/opt/conda/lib/python3.9/site-packages/ipykernel/zmqshell.py:617\u001b[0m, in \u001b[0;36mZMQInteractiveShell.system_piped\u001b[0;34m(self, cmd)\u001b[0m\n\u001b[1;32m    <a href='file:///opt/conda/lib/python3.9/site-packages/ipykernel/zmqshell.py?line=601'>602</a>\u001b[0m \u001b[39m\"\"\"Call the given cmd in a subprocess, piping stdout/err\u001b[39;00m\n\u001b[1;32m    <a href='file:///opt/conda/lib/python3.9/site-packages/ipykernel/zmqshell.py?line=602'>603</a>\u001b[0m \n\u001b[1;32m    <a href='file:///opt/conda/lib/python3.9/site-packages/ipykernel/zmqshell.py?line=603'>604</a>\u001b[0m \u001b[39mParameters\u001b[39;00m\n\u001b[0;32m   (...)\u001b[0m\n\u001b[1;32m    <a href='file:///opt/conda/lib/python3.9/site-packages/ipykernel/zmqshell.py?line=608'>609</a>\u001b[0m \u001b[39m    other than simple text.\u001b[39;00m\n\u001b[1;32m    <a href='file:///opt/conda/lib/python3.9/site-packages/ipykernel/zmqshell.py?line=609'>610</a>\u001b[0m \u001b[39m\"\"\"\u001b[39;00m\n\u001b[1;32m    <a href='file:///opt/conda/lib/python3.9/site-packages/ipykernel/zmqshell.py?line=610'>611</a>\u001b[0m \u001b[39mif\u001b[39;00m cmd\u001b[39m.\u001b[39mrstrip()\u001b[39m.\u001b[39mendswith(\u001b[39m\"\u001b[39m\u001b[39m&\u001b[39m\u001b[39m\"\u001b[39m):\n\u001b[1;32m    <a href='file:///opt/conda/lib/python3.9/site-packages/ipykernel/zmqshell.py?line=611'>612</a>\u001b[0m     \u001b[39m# this is *far* from a rigorous test\u001b[39;00m\n\u001b[1;32m    <a href='file:///opt/conda/lib/python3.9/site-packages/ipykernel/zmqshell.py?line=612'>613</a>\u001b[0m     \u001b[39m# We do not support backgrounding processes because we either use\u001b[39;00m\n\u001b[1;32m    <a href='file:///opt/conda/lib/python3.9/site-packages/ipykernel/zmqshell.py?line=613'>614</a>\u001b[0m     \u001b[39m# pexpect or pipes to read from.  Users can always just call\u001b[39;00m\n\u001b[1;32m    <a href='file:///opt/conda/lib/python3.9/site-packages/ipykernel/zmqshell.py?line=614'>615</a>\u001b[0m     \u001b[39m# os.system() or use ip.system=ip.system_raw\u001b[39;00m\n\u001b[1;32m    <a href='file:///opt/conda/lib/python3.9/site-packages/ipykernel/zmqshell.py?line=615'>616</a>\u001b[0m     \u001b[39m# if they really want a background process.\u001b[39;00m\n\u001b[0;32m--> <a href='file:///opt/conda/lib/python3.9/site-packages/ipykernel/zmqshell.py?line=616'>617</a>\u001b[0m     \u001b[39mraise\u001b[39;00m \u001b[39mOSError\u001b[39;00m(\u001b[39m\"\u001b[39m\u001b[39mBackground processes not supported.\u001b[39m\u001b[39m\"\u001b[39m)\n\u001b[1;32m    <a href='file:///opt/conda/lib/python3.9/site-packages/ipykernel/zmqshell.py?line=618'>619</a>\u001b[0m \u001b[39m# we explicitly do NOT return the subprocess status code, because\u001b[39;00m\n\u001b[1;32m    <a href='file:///opt/conda/lib/python3.9/site-packages/ipykernel/zmqshell.py?line=619'>620</a>\u001b[0m \u001b[39m# a non-None value would trigger :func:`sys.displayhook` calls.\u001b[39;00m\n\u001b[1;32m    <a href='file:///opt/conda/lib/python3.9/site-packages/ipykernel/zmqshell.py?line=620'>621</a>\u001b[0m \u001b[39m# Instead, we store the exit_code in user_ns.\u001b[39;00m\n\u001b[1;32m    <a href='file:///opt/conda/lib/python3.9/site-packages/ipykernel/zmqshell.py?line=621'>622</a>\u001b[0m \u001b[39m# Also, protect system call from UNC paths on Windows here too\u001b[39;00m\n\u001b[1;32m    <a href='file:///opt/conda/lib/python3.9/site-packages/ipykernel/zmqshell.py?line=622'>623</a>\u001b[0m \u001b[39m# as is done in InteractiveShell.system_raw\u001b[39;00m\n\u001b[1;32m    <a href='file:///opt/conda/lib/python3.9/site-packages/ipykernel/zmqshell.py?line=623'>624</a>\u001b[0m \u001b[39mif\u001b[39;00m sys\u001b[39m.\u001b[39mplatform \u001b[39m==\u001b[39m \u001b[39m\"\u001b[39m\u001b[39mwin32\u001b[39m\u001b[39m\"\u001b[39m:\n",
      "\u001b[0;31mOSError\u001b[0m: Background processes not supported."
     ]
    }
   ],
   "source": [
    "!mlflow ui"
   ]
  },
  {
   "cell_type": "markdown",
   "metadata": {},
   "source": [
    "## 2. *Overfitting* \n",
    "Use Keras again, but this time on ImageNet. Now try different over-fitting solutions. Does the training speed change? Does generalization change? Now try the hold-out validation set. Do training and generalization change?"
   ]
  },
  {
   "cell_type": "code",
   "execution_count": null,
   "metadata": {},
   "outputs": [],
   "source": [
    "# skip to use ImageNet because of too much file size.."
   ]
  },
  {
   "cell_type": "markdown",
   "metadata": {},
   "source": [
    "## 3. *Confidence* \n",
    "How many runs did you do in the previous exercises, just a single run to see how long training took and how well generalization worked? Try to run it again. Do you get the same results? How large is the difference? Can you change the random seeds of Keras or TensorFlow? Can you calculate the confidence interval, how much does the confidence improve when you do 10 randomized runs? How about 100 runs? Make graphs with error bars."
   ]
  },
  {
   "cell_type": "code",
   "execution_count": 50,
   "metadata": {},
   "outputs": [],
   "source": [
    "client = mlflow.tracking.MlflowClient()"
   ]
  },
  {
   "cell_type": "code",
   "execution_count": 52,
   "metadata": {},
   "outputs": [],
   "source": [
    "info = client.get_experiment_by_name(name=\"appendixB-3\")\n",
    "if info is not None:\n",
    "    client.delete_experiment(info.experiment_id)\n",
    "    shutil.rmtree(path=\"mlruns/.trash\")\n",
    "    os.mkdir(\"mlruns/.trash\")\n",
    "\n",
    "experiment_id = client.create_experiment(name=\"appendixB-3\")"
   ]
  },
  {
   "cell_type": "code",
   "execution_count": null,
   "metadata": {},
   "outputs": [],
   "source": [
    "for i in range(100):\n",
    "    subprocess.run(f\"python3 train.py -b 128 -e 15 -opt adam -lr 0.001 -seed {i}\")"
   ]
  },
  {
   "cell_type": "code",
   "execution_count": 62,
   "metadata": {},
   "outputs": [],
   "source": [
    "run_ids = [i.run_id for i in client.list_run_infos(experiment_id)]\n",
    "loss = np.array([])\n",
    "accuracy = np.array([])\n",
    "for i in run_ids:\n",
    "    loss = np.append(loss, client.get_metric_history(i, key = \"loss\")[0].value)\n",
    "    accuracy = np.append(accuracy, client.get_metric_history(i, key = \"accuracy\")[0].value)"
   ]
  },
  {
   "cell_type": "code",
   "execution_count": 69,
   "metadata": {},
   "outputs": [
    {
     "data": {
      "image/png": "[encoded data removed]",
      "text/plain": [
       "<Figure size 432x288 with 1 Axes>"
      ]
     },
     "metadata": {
      "needs_background": "light"
     },
     "output_type": "display_data"
    },
    {
     "data": {
      "image/png": "[encoded data removed]",
      "text/plain": [
       "<Figure size 432x288 with 1 Axes>"
      ]
     },
     "metadata": {
      "needs_background": "light"
     },
     "output_type": "display_data"
    }
   ],
   "source": [
    "n = min(len(run_ids), 10)\n",
    "sns.barplot(data=loss[:n], estimator=np.mean, ci=95, capsize=.2)\n",
    "plt.title(f\"average loss of {n} trial\")\n",
    "plt.show()\n",
    "\n",
    "sns.barplot(data=accuracy[:10], estimator=np.mean, ci=95, capsize=.2)\n",
    "plt.title(f\"average accuracy of {n} trial\")\n",
    "plt.show()"
   ]
  },
  {
   "cell_type": "markdown",
   "metadata": {},
   "source": [
    "## 4. *GPU*\n",
    "It might be that you have access to a GPU machine that is capable of running PyTorch or TensorFlow in parallel to speed up the training. Install the GPU version and check that it recognizes the GPU and is indeed using it."
   ]
  },
  {
   "cell_type": "code",
   "execution_count": 12,
   "metadata": {},
   "outputs": [
    {
     "data": {
      "text/plain": [
       "[name: \"/device:CPU:0\"\n",
       " device_type: \"CPU\"\n",
       " memory_limit: 268435456\n",
       " locality {\n",
       " }\n",
       " incarnation: 9560117324454948780\n",
       " xla_global_id: -1]"
      ]
     },
     "execution_count": 12,
     "metadata": {},
     "output_type": "execute_result"
    }
   ],
   "source": [
    "# check enable GPU\n",
    "from tensorflow.python.client import device_lib\n",
    "device_lib.list_local_devices()"
   ]
  },
  {
   "cell_type": "code",
   "execution_count": null,
   "metadata": {},
   "outputs": [],
   "source": [
    "!python3 train.py -b 128 -e 15 -opt adam -lr 0.001"
   ]
  },
  {
   "cell_type": "code",
   "execution_count": null,
   "metadata": {},
   "outputs": [],
   "source": [
    "# need if executing in colab\n",
    "get_ipython().system_raw(\"mlflow ui --port 5000 &\")\n",
    "from pyngrok import ngrok\n",
    "\n",
    "# Terminate open tunnels if exist\n",
    "ngrok.kill()\n",
    "\n",
    "# Open an HTTPs tunnel on port 5000 for http://localhost:5000\n",
    "ngrok_tunnel = ngrok.connect(addr=\"5000\", proto=\"http\", bind_tls=True)\n",
    "print(\"MLflow Tracking UI:\", ngrok_tunnel.public_url)"
   ]
  },
  {
   "cell_type": "markdown",
   "metadata": {},
   "source": [
    "## 5. *Parallelism*\n",
    "It might be that you have access to a multicore CPU machine. When you are running multiple runs in order to improve confiedence, then an easy way to speed up your experiment is to spawn multiple jobs at the shell, assigning the output to different log files, and write a script to combine results and draw graphs. Write the scripts necessary to achieve this, test them, and do a large-confidence experiment."
   ]
  },
  {
   "cell_type": "code",
   "execution_count": null,
   "metadata": {},
   "outputs": [],
   "source": [
    "info = client.get_experiment_by_name(name=\"appendixB-5\")\n",
    "if info is not None:\n",
    "    client.delete_experiment(info.experiment_id)\n",
    "    shutil.rmtree(path=\"mlruns/.trash\")\n",
    "    os.mkdir(\"mlruns/.trash\")\n",
    "\n",
    "experiment_id = client.create_experiment(name=\"appendixB-5\")"
   ]
  },
  {
   "cell_type": "code",
   "execution_count": 75,
   "metadata": {},
   "outputs": [
    {
     "data": {
      "text/plain": [
       "0"
      ]
     },
     "execution_count": 75,
     "metadata": {},
     "output_type": "execute_result"
    },
    {
     "name": "stderr",
     "output_type": "stream",
     "text": [
      "2022-04-23 19:22:58.277006: W tensorflow/stream_executor/platform/default/dso_loader.cc:64] Could not load dynamic library 'libcudart.so.11.0'; dlerror: libcudart.so.11.0: cannot open shared object file: No such file or directory\n",
      "2022-04-23 19:22:58.277549: I tensorflow/stream_executor/cuda/cudart_stub.cc:29] Ignore above cudart dlerror if you do not have a GPU set up on your machine.\n",
      "2022-04-23 19:22:58.354450: W tensorflow/stream_executor/platform/default/dso_loader.cc:64] Could not load dynamic library 'libcudart.so.11.0'; dlerror: libcudart.so.11.0: cannot open shared object file: No such file or directory\n",
      "2022-04-23 19:22:58.354501: I tensorflow/stream_executor/cuda/cudart_stub.cc:29] Ignore above cudart dlerror if you do not have a GPU set up on your machine.\n"
     ]
    },
    {
     "name": "stdout",
     "output_type": "stream",
     "text": [
      "x_train shape: (60000, 28, 28, 1)\n",
      "60000 train samples\n",
      "10000 test samples\n",
      "Model: \"sequential\"\n",
      "_________________________________________________________________\n",
      " Layer (type)                Output Shape              Param #   \n",
      "=================================================================\n",
      " conv2d (Conv2D)             (None, 26, 26, 32)        320       \n",
      "                                                                 \n",
      " max_pooling2d (MaxPooling2D  (None, 13, 13, 32)       0         \n",
      " )                                                               \n",
      "                                                                 \n",
      " conv2d_1 (Conv2D)           (None, 11, 11, 64)        18496     \n",
      "                                                                 \n",
      "x_train shape: (60000, 28, 28, 1)\n",
      "60000 train samples\n",
      "10000 test samples\n",
      " max_pooling2d_1 (MaxPooling  (None, 5, 5, 64)         0         \n",
      " 2D)                                                             \n",
      "                                                                 \n",
      " flatten (Flatten)           (None, 1600)              0         \n",
      "                                                                 \n",
      " dropout (Dropout)           (None, 1600)              0         \n",
      "                                                                 \n",
      " dense (Dense)               (None, 18)                28818     \n",
      "                                                                 \n",
      "=================================================================\n",
      "Total params: 47,634\n",
      "Trainable params: 47,634\n",
      "Non-trainable params: 0\n",
      "_________________________________________________________________\n"
     ]
    },
    {
     "name": "stderr",
     "output_type": "stream",
     "text": [
      "/opt/conda/lib/python3.9/site-packages/mlflow/utils/autologging_utils/__init__.py:416: FutureWarning: Autologging support for keras >= 2.6.0 has been deprecated and will be removed in a future MLflow release. Use `mlflow.tensorflow.autolog()` instead.\n",
      "  return _autolog(*args, **kwargs)\n",
      "2022-04-23 19:23:06.265796: W tensorflow/stream_executor/platform/default/dso_loader.cc:64] Could not load dynamic library 'libcuda.so.1'; dlerror: libcuda.so.1: cannot open shared object file: No such file or directory\n",
      "2022-04-23 19:23:06.266810: W tensorflow/stream_executor/cuda/cuda_driver.cc:269] failed call to cuInit: UNKNOWN ERROR (303)\n",
      "2022-04-23 19:23:06.267567: I tensorflow/stream_executor/cuda/cuda_diagnostics.cc:156] kernel driver does not appear to be running on this host (5c4c50fd13e8): /proc/driver/nvidia/version does not exist\n",
      "2022-04-23 19:23:06.268634: I tensorflow/core/platform/cpu_feature_guard.cc:151] This TensorFlow binary is optimized with oneAPI Deep Neural Network Library (oneDNN) to use the following CPU instructions in performance-critical operations:  AVX2 FMA\n",
      "To enable them in other operations, rebuild TensorFlow with the appropriate compiler flags.\n",
      "/opt/conda/lib/python3.9/site-packages/mlflow/utils/autologging_utils/__init__.py:416: FutureWarning: Autologging support for keras >= 2.6.0 has been deprecated and will be removed in a future MLflow release. Use `mlflow.tensorflow.autolog()` instead.\n",
      "  return _autolog(*args, **kwargs)\n",
      "2022-04-23 19:23:06.396130: W tensorflow/stream_executor/platform/default/dso_loader.cc:64] Could not load dynamic library 'libcuda.so.1'; dlerror: libcuda.so.1: cannot open shared object file: No such file or directory\n",
      "2022-04-23 19:23:06.396192: W tensorflow/stream_executor/cuda/cuda_driver.cc:269] failed call to cuInit: UNKNOWN ERROR (303)\n",
      "2022-04-23 19:23:06.396231: I tensorflow/stream_executor/cuda/cuda_diagnostics.cc:156] kernel driver does not appear to be running on this host (5c4c50fd13e8): /proc/driver/nvidia/version does not exist\n",
      "2022-04-23 19:23:06.396556: I tensorflow/core/platform/cpu_feature_guard.cc:151] This TensorFlow binary is optimized with oneAPI Deep Neural Network Library (oneDNN) to use the following CPU instructions in performance-critical operations:  AVX2 FMA\n",
      "To enable them in other operations, rebuild TensorFlow with the appropriate compiler flags.\n"
     ]
    },
    {
     "name": "stdout",
     "output_type": "stream",
     "text": [
      "Model: \"sequential\"\n",
      "_________________________________________________________________\n",
      " Layer (type)                Output Shape              Param #   \n",
      "=================================================================\n",
      " conv2d (Conv2D)             (None, 26, 26, 32)        320       \n",
      "                                                                 \n",
      " max_pooling2d (MaxPooling2D  (None, 13, 13, 32)       0         \n",
      " )                                                               \n",
      "                                                                 \n",
      " conv2d_1 (Conv2D)           (None, 11, 11, 64)        18496     \n",
      "                                                                 \n",
      " max_pooling2d_1 (MaxPooling  (None, 5, 5, 64)         0         \n",
      " 2D)                                                             \n",
      "                                                                 \n",
      " flatten (Flatten)           (None, 1600)              0         \n",
      "                                                                 \n",
      " dropout (Dropout)           (None, 1600)              0         \n",
      "                                                                 \n",
      " dense (Dense)               (None, 18)                28818     \n",
      "                                                                 \n",
      "=================================================================\n",
      "Total params: 47,634\n",
      "Trainable params: 47,634\n",
      "Non-trainable params: 0\n",
      "_________________________________________________________________\n"
     ]
    },
    {
     "name": "stderr",
     "output_type": "stream",
     "text": [
      "2022/04/23 19:23:06 INFO mlflow.utils.autologging_utils: Created MLflow autologging run with ID '7934707af0a5485ab0e08dc57d5fa30c', which will track hyperparameters, performance metrics, model artifacts, and lineage information for the current keras workflow\n",
      "2022/04/23 19:23:06 INFO mlflow.utils.autologging_utils: Created MLflow autologging run with ID '84d6264b9cd04fafa7b6b178c69b9e65', which will track hyperparameters, performance metrics, model artifacts, and lineage information for the current keras workflow\n",
      "2022-04-23 19:23:06.886006: W tensorflow/core/framework/cpu_allocator_impl.cc:82] Allocation of 169344000 exceeds 10% of free system memory.\n",
      "2022-04-23 19:23:06.905209: W tensorflow/core/framework/cpu_allocator_impl.cc:82] Allocation of 169344000 exceeds 10% of free system memory.\n"
     ]
    },
    {
     "name": "stdout",
     "output_type": "stream",
     "text": [
      "Epoch 1/15\n",
      "Epoch 1/15\n",
      "253/422 [================>.............] - ETA: 1:05 - loss: 0.5614 - accuracy: 0.8221"
     ]
    }
   ],
   "source": [
    "subprocess.call(\"python3 train.py -b 128 -e 15 -opt adam -lr 0.001  &\", shell=True)\n",
    "subprocess.call(\"python3 train.py -b 128 -e 15 -opt adam -lr 0.001  &\", shell=True)"
   ]
  },
  {
   "cell_type": "code",
   "execution_count": null,
   "metadata": {},
   "outputs": [],
   "source": []
  }
 ],
 "metadata": {
  "interpreter": {
   "hash": "d4d1e4263499bec80672ea0156c357c1ee493ec2b1c70f0acce89fc37c4a6abe"
  },
  "kernelspec": {
   "display_name": "Python 3.9.10 ('base')",
   "language": "python",
   "name": "python3"
  },
  "language_info": {
   "codemirror_mode": {
    "name": "ipython",
    "version": 3
   },
   "file_extension": ".py",
   "mimetype": "text/x-python",
   "name": "python",
   "nbconvert_exporter": "python",
   "pygments_lexer": "ipython3",
   "version": "3.9.10"
  },
  "orig_nbformat": 4
 },
 "nbformat": 4,
 "nbformat_minor": 2
}

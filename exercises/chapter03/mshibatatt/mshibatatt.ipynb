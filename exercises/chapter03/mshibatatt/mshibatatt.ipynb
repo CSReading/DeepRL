{
 "cells": [
  {
   "cell_type": "markdown",
   "metadata": {},
   "source": [
    "# Chapter 3: Deep Value-Based Reinforcement Learning"
   ]
  },
  {
   "cell_type": "markdown",
   "metadata": {},
   "source": [
    "## 1. *DQN*\n",
    "Implement DQN from the Stable Baselines on Breakout from Gym. Turn off Dueling and Priorities. Find out what the values are for 𝛼, the training rate, for $\\varepsilon$, the exploration rate, what kind of neural network architecture is used, what the replay buffer size is, and how frequently the target network is updated."
   ]
  },
  {
   "cell_type": "code",
   "execution_count": 5,
   "metadata": {},
   "outputs": [
    {
     "name": "stdout",
     "output_type": "stream",
     "text": [
      "A.L.E: Arcade Learning Environment (version 0.7.4+069f8bd)\n",
      "[Powered by Stella]\n",
      "2022-05-07 04:23:16.851407: W tensorflow/stream_executor/platform/default/dso_loader.cc:64] Could not load dynamic library 'libcudart.so.11.0'; dlerror: libcudart.so.11.0: cannot open shared object file: No such file or directory; LD_LIBRARY_PATH: /opt/conda/lib/python3.9/site-packages/cv2/../../lib64:\n",
      "2022-05-07 04:23:16.851450: I tensorflow/stream_executor/cuda/cudart_stub.cc:29] Ignore above cudart dlerror if you do not have a GPU set up on your machine.\n",
      "mean reward: 1.0, s.d. of reward: 2.0\n",
      "/opt/conda/lib/python3.9/site-packages/gym/envs/atari/environment.py:267: UserWarning: \u001b[33mWARN: We strongly suggest supplying `render_mode` when constructing your environment, e.g., gym.make(ID, render_mode='human'). Using `render_mode` provides access to proper scaling, audio support, and proper framerates.\u001b[0m\n",
      "  logger.warn(\n",
      "^C\n",
      "Traceback (most recent call last):\n",
      "  File \"/workspace/exercises/chapter03/mshibatatt/breakout.py\", line 90, in <module>\n",
      "    main(args.lr, args.ex, args.rb, args.fr, args.t, args.seed, args.hide, args.name, args.save)\n",
      "  File \"/workspace/exercises/chapter03/mshibatatt/breakout.py\", line 29, in main\n",
      "    env.render(mode = 'human')\n",
      "  File \"/opt/conda/lib/python3.9/site-packages/stable_baselines3/common/vec_env/dummy_vec_env.py\", line 85, in render\n",
      "    return self.envs[0].render(mode=mode)\n",
      "  File \"/opt/conda/lib/python3.9/site-packages/gym/core.py\", line 295, in render\n",
      "    return self.env.render(mode, **kwargs)\n",
      "  File \"/opt/conda/lib/python3.9/site-packages/gym/core.py\", line 295, in render\n",
      "    return self.env.render(mode, **kwargs)\n",
      "  File \"/opt/conda/lib/python3.9/site-packages/gym/core.py\", line 295, in render\n",
      "    return self.env.render(mode, **kwargs)\n",
      "  [Previous line repeated 6 more times]\n",
      "  File \"/opt/conda/lib/python3.9/site-packages/gym/envs/atari/environment.py\", line 276, in render\n",
      "    self.viewer.imshow(img)\n",
      "  File \"/opt/conda/lib/python3.9/site-packages/gym/envs/classic_control/rendering.py\", line 445, in imshow\n",
      "    self.window.clear()\n",
      "  File \"/opt/conda/lib/python3.9/site-packages/pyglet/window/__init__.py\", line 1150, in clear\n",
      "    gl.glClear(gl.GL_COLOR_BUFFER_BIT | gl.GL_DEPTH_BUFFER_BIT)\n",
      "  File \"/opt/conda/lib/python3.9/site-packages/pyglet/gl/lib.py\", line 84, in errcheck\n",
      "    def errcheck(result, func, arguments):\n",
      "KeyboardInterrupt\n"
     ]
    }
   ],
   "source": [
    "!python breakout.py"
   ]
  },
  {
   "cell_type": "markdown",
   "metadata": {},
   "source": [
    "From Docs of stable-baseline3 DQN library ([here](https://stable-baselines3.readthedocs.io/en/master/modules/dqn.html)), default parameters are:\n",
    "- $\\alpha$: 0.0001\n",
    "- $\\varepsilon$: 0.1\n",
    "- Neural network architectute: CNN for input and activatied by ReLu ([here](https://stable-baselines3.readthedocs.io/en/master/modules/dqn.html#stable_baselines3.dqn.CnnPolicy))\n",
    "- Replay buffer size: 1000000 \n",
    "- How frequently the target network updated: 4 steps"
   ]
  },
  {
   "cell_type": "markdown",
   "metadata": {},
   "source": [
    "## 2. *Hyperparameters*\n",
    "Change all those hyperparameters, up, and down, and note the effect on training speed, and the training outcome: how good is the result? How sensitive is performance to hyperparameter optimization?"
   ]
  },
  {
   "cell_type": "code",
   "execution_count": 10,
   "metadata": {},
   "outputs": [
    {
     "name": "stdout",
     "output_type": "stream",
     "text": [
      "A.L.E: Arcade Learning Environment (version 0.7.4+069f8bd)\n",
      "[Powered by Stella]\n",
      "2022-05-07 05:26:43.068670: W tensorflow/stream_executor/platform/default/dso_loader.cc:64] Could not load dynamic library 'libcudart.so.11.0'; dlerror: libcudart.so.11.0: cannot open shared object file: No such file or directory; LD_LIBRARY_PATH: /opt/conda/lib/python3.9/site-packages/cv2/../../lib64:\n",
      "2022-05-07 05:26:43.068712: I tensorflow/stream_executor/cuda/cudart_stub.cc:29] Ignore above cudart dlerror if you do not have a GPU set up on your machine.\n"
     ]
    }
   ],
   "source": [
    "!python breakout.py -lr 1e-5 -hide -name alpha_up\n",
    "!python breakout.py -lr 1e-3 -hide -name alpha_down\n",
    "!python breakout.py -ex 0.3 -hide -name epsilon_up\n",
    "!python breakout.py -ex 0.01 -hide -name epsilon_down\n",
    "!python breakout.py -rb 1e+4 -hide -name replay_buffer_up\n",
    "!python breakout.py -rb 1e+8 -hide -name replay_buffer_down\n",
    "!python breakout.py -fr 8 -hide -name frequency_down\n",
    "!python breakout.py -fr 2 -hide -name frequency_down\n",
    "!python breakout.py -t 2500000 -hide -name long -save"
   ]
  },
  {
   "cell_type": "code",
   "execution_count": 1,
   "metadata": {},
   "outputs": [
    {
     "name": "stdout",
     "output_type": "stream",
     "text": [
      "2022-05-07 09:28:01.188446: W tensorflow/stream_executor/platform/default/dso_loader.cc:64] Could not load dynamic library 'libcudart.so.11.0'; dlerror: libcudart.so.11.0: cannot open shared object file: No such file or directory\n",
      "2022-05-07 09:28:01.188499: I tensorflow/stream_executor/cuda/cudart_stub.cc:29] Ignore above cudart dlerror if you do not have a GPU set up on your machine.\n",
      "2022-05-07 09:28:03.030004: W tensorflow/stream_executor/platform/default/dso_loader.cc:64] Could not load dynamic library 'libcuda.so.1'; dlerror: libcuda.so.1: cannot open shared object file: No such file or directory\n",
      "2022-05-07 09:28:03.030053: W tensorflow/stream_executor/cuda/cuda_driver.cc:269] failed call to cuInit: UNKNOWN ERROR (303)\n",
      "2022-05-07 09:28:03.030081: I tensorflow/stream_executor/cuda/cuda_diagnostics.cc:156] kernel driver does not appear to be running on this host (ip-172-31-32-198.ap-northeast-1.compute.internal): /proc/driver/nvidia/version does not exist\n",
      "\n",
      "NOTE: Using experimental fast data loading logic. To disable, pass\n",
      "    \"--load_fast=false\" and report issues on GitHub. More details:\n",
      "    https://github.com/tensorflow/tensorboard/issues/4784\n",
      "\n",
      "Serving TensorBoard on localhost; to expose to the network, use a proxy or pass --bind_all\n",
      "TensorBoard 2.8.0 at http://localhost:6006/ (Press CTRL+C to quit)\n",
      "^C\n"
     ]
    }
   ],
   "source": [
    "!tensorboard --logdir ./tensorboard/"
   ]
  },
  {
   "cell_type": "code",
   "execution_count": null,
   "metadata": {},
   "outputs": [],
   "source": [
    "!python breakout.py -model ./long"
   ]
  },
  {
   "cell_type": "markdown",
   "metadata": {},
   "source": [
    "# Skip following"
   ]
  },
  {
   "cell_type": "markdown",
   "metadata": {},
   "source": [
    "## 3. *Cloud*\n",
    "Use different computers, experiment with GPU versions to speed up training, consider Colab, AWS, or another cloud provider with fast GPU (or TPU) machines."
   ]
  },
  {
   "cell_type": "markdown",
   "metadata": {},
   "source": [
    "## 4. *Gym*\n",
    "Go to Gym and try different problems. For what kind of problems does DQN work, what are characteristics of problems for which it works less well?"
   ]
  },
  {
   "cell_type": "markdown",
   "metadata": {},
   "source": [
    "## 5. *Stable Baselines*\n",
    "Go to the Stable baselines and implement different agent algorithms. Try Dueling algorithms, Prioritized experience replay, but also other algorithm, such as Actor critic or policy-based. (These algorithms will be explained in the next chapter.) Note their performance."
   ]
  },
  {
   "cell_type": "markdown",
   "metadata": {},
   "source": [
    "## 6. *Tensorboard*\n",
    "With Tensorboard you can follow the training process as it progresses. Tensorboard works on log files. Try TensorBoard on a Keras exercise and follow different training indicators. Also try TensorBoard on the Stable Baselines and see which indicators you can follow."
   ]
  },
  {
   "cell_type": "markdown",
   "metadata": {},
   "source": [
    "[Docs](https://stable-baselines3.readthedocs.io/en/master/guide/tensorboard.html)"
   ]
  },
  {
   "cell_type": "markdown",
   "metadata": {},
   "source": [
    "## 7. *Checkpointing*\n",
    "Long training runs in Keras need checkpointing, to save valuable computations in case of a hardware or software failure. Create a large training job, and setup checkpointing. Test everything by interrupting the training, and try to re-load the pre-trained checkpoint to restart the training where it left off."
   ]
  },
  {
   "cell_type": "markdown",
   "metadata": {},
   "source": [
    "[Docs](https://stable-baselines3.readthedocs.io/en/master/guide/callbacks.html?highlight=checkpoint#checkpointcallback)"
   ]
  },
  {
   "cell_type": "markdown",
   "metadata": {},
   "source": []
  }
 ],
 "metadata": {
  "interpreter": {
   "hash": "d4d1e4263499bec80672ea0156c357c1ee493ec2b1c70f0acce89fc37c4a6abe"
  },
  "kernelspec": {
   "display_name": "Python 3.9.10 ('base')",
   "language": "python",
   "name": "python3"
  },
  "language_info": {
   "codemirror_mode": {
    "name": "ipython",
    "version": 3
   },
   "file_extension": ".py",
   "mimetype": "text/x-python",
   "name": "python",
   "nbconvert_exporter": "python",
   "pygments_lexer": "ipython3",
   "version": "3.9.10"
  },
  "orig_nbformat": 4
 },
 "nbformat": 4,
 "nbformat_minor": 2
}
